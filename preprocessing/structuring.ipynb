{
 "cells": [
  {
   "cell_type": "code",
   "execution_count": 1,
   "metadata": {},
   "outputs": [],
   "source": [
    "import os\n",
    "from utils.filesystem import *"
   ]
  },
  {
   "cell_type": "code",
   "execution_count": 2,
   "metadata": {},
   "outputs": [],
   "source": [
    "data = '/home/vr256/Desktop/Data/Images'"
   ]
  },
  {
   "cell_type": "markdown",
   "metadata": {},
   "source": [
    "### Specifying dir tree structure\n",
    "`source` - path to a folder which contains original images of the same size  \n",
    "`destination` - path to a folder which will be used for further training and will have the following structure:  \n",
    "#### Unpaired dataset (WGAN)\n",
    "- `destination`\n",
    "    - `test`\n",
    "        - `1.jpg`\n",
    "        - `...`\n",
    "    - `train`\n",
    "        - `101.jpg`\n",
    "        - `...`"
   ]
  },
  {
   "cell_type": "code",
   "execution_count": 3,
   "metadata": {},
   "outputs": [
    {
     "name": "stdout",
     "output_type": "stream",
     "text": [
      "['train', 'test']\n"
     ]
    }
   ],
   "source": [
    "split_images(source=os.path.join(data, 'raw', 'combined_aerial', '256'),\n",
    "             destination=os.path.join(data, 'structured', 'combined_aerial', '256'),\n",
    "             test_size=0.2)"
   ]
  },
  {
   "cell_type": "markdown",
   "metadata": {},
   "source": [
    "#### Paired dataset (Pix2Pix GAN)\n",
    "- `destination`\n",
    "    - `test_input`\n",
    "        - `1.jpg`\n",
    "        - `...`\n",
    "    - `test_output`\n",
    "        - `1.jpg`\n",
    "        - `...`\n",
    "    - `train_input`\n",
    "        - `101.jpg`\n",
    "        - `...`\n",
    "    - `train__output`\n",
    "        - `101.jpg`\n",
    "        - `...`"
   ]
  },
  {
   "cell_type": "code",
   "execution_count": 4,
   "metadata": {},
   "outputs": [
    {
     "name": "stdout",
     "output_type": "stream",
     "text": [
      "['test_input', 'test_output', 'train_input', 'train_output']\n"
     ]
    }
   ],
   "source": [
    "split_images(source=os.path.join(data, 'raw', 'combined_aerial', '256'),\n",
    "             destination=os.path.join(data, 'structured', 'degraded_combined_aerial', '256'),\n",
    "             test_size=0.2,\n",
    "             paired_dataset=True)"
   ]
  },
  {
   "cell_type": "markdown",
   "metadata": {},
   "source": [
    "### Sieving"
   ]
  },
  {
   "cell_type": "code",
   "execution_count": null,
   "metadata": {},
   "outputs": [],
   "source": []
  }
 ],
 "metadata": {
  "kernelspec": {
   "display_name": ".venv",
   "language": "python",
   "name": "python3"
  },
  "language_info": {
   "codemirror_mode": {
    "name": "ipython",
    "version": 3
   },
   "file_extension": ".py",
   "mimetype": "text/x-python",
   "name": "python",
   "nbconvert_exporter": "python",
   "pygments_lexer": "ipython3",
   "version": "3.12.3"
  }
 },
 "nbformat": 4,
 "nbformat_minor": 2
}
